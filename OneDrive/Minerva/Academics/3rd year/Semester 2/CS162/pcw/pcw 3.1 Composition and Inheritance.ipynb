{
 "cells": [
  {
   "cell_type": "code",
   "execution_count": 4,
   "metadata": {},
   "outputs": [
    {
     "name": "stdout",
     "output_type": "stream",
     "text": [
      "Banana is ready to eat!\n"
     ]
    },
    {
     "data": {
      "text/plain": [
       "True"
      ]
     },
     "execution_count": 4,
     "metadata": {},
     "output_type": "execute_result"
    }
   ],
   "source": [
    "class Fruit:\n",
    "    def __init__(self, name, weight_kg):\n",
    "        self.name = name\n",
    "        self.weight_kg = weight_kg\n",
    "        self._ripe = False\n",
    "        self._rotten = False\n",
    "    \n",
    "    def __repr__(self):\n",
    "        return \"{} ({:.3f} kg)\".format(self.name, self.weight_kg)\n",
    "    \n",
    "    def ripen(self):\n",
    "        if ~self._rotten:\n",
    "            self._ripe = True\n",
    "            print(\"{} is ready to eat!\".format(self.name))\n",
    "            \n",
    "    def neglect(self):\n",
    "        self._rotten = True\n",
    "        print(\"Now {} is rotten\".format(self.name))\n",
    "        \n",
    "    def ready_to_eat(self):\n",
    "        return self._ripe and not self._rotten \n",
    "    \n",
    "class Banana(Fruit):\n",
    "    def __init__(self, name = 'Banana', weight_kg = 0.2):\n",
    "        super().__init__(name, weight_kg)\n",
    "        self._peeled = False\n",
    "        \n",
    "    def peel(self):\n",
    "        self._peeled = True \n",
    "    \n",
    "    def read_to_eat(self):\n",
    "        if self._peeled:\n",
    "            return super().ready_to_eat()\n",
    "        return False \n",
    "    \n",
    "s = Fruit('Strawberry', 0.1)\n",
    "b = Banana()\n",
    "b.ripen()\n",
    "# violate, ready to eat before peel\n",
    "b.ready_to_eat()"
   ]
  },
  {
   "cell_type": "markdown",
   "metadata": {},
   "source": [
    "## Composition\n"
   ]
  },
  {
   "cell_type": "code",
   "execution_count": 5,
   "metadata": {
    "scrolled": true
   },
   "outputs": [
    {
     "name": "stdout",
     "output_type": "stream",
     "text": [
      "chef not a type of fruit\n",
      "[BananaSlice (0.050 kg), BananaSlice (0.050 kg), BananaSlice (0.050 kg), BananaSlice (0.050 kg)]\n"
     ]
    }
   ],
   "source": [
    "class Chef:\n",
    "    def __init__(self):\n",
    "        self.fruit = []\n",
    "    def ripen(self):\n",
    "        for f in self.fruit:\n",
    "            f.ripen()\n",
    "    def neglect(self):\n",
    "        for f in self.fruit:\n",
    "            f.neglect()\n",
    "    def get_ready_to_eat(self):\n",
    "        return [f for f in self.fruit if f.ready_to_eat()]\n",
    "    def get_not_ready_to_eat(self):\n",
    "        return [f for f in self.fruit if not f.ready_to_eat()]\n",
    "    def get_fruit_salad(self):\n",
    "        ans = []\n",
    "        for f in self.get_ready_to_eat():\n",
    "            (num_slices, remainder) = divmod(f.weight_kg, 0.05)\n",
    "            for a in range(int(num_slices)):\n",
    "                ans.append(Fruit(f.name + 'Slice', 0.05))\n",
    "            if remainder > 1e-16:\n",
    "                ans.append(Fruit(f.name + ' Slice', remainder))\n",
    "        self.fruit = self.get_not_ready_to_eat()\n",
    "        return ans \n",
    "    \n",
    "chef = Chef()\n",
    "chef.fruit = [s, b]\n",
    "if isinstance(chef, Fruit):\n",
    "    print(\"Is chef a type of fruit\")\n",
    "else:\n",
    "    print(\"chef not a type of fruit\")\n",
    "    \n",
    "print(chef.get_fruit_salad())\n",
    "    \n",
    "    \n",
    "    "
   ]
  },
  {
   "cell_type": "markdown",
   "metadata": {},
   "source": [
    "## Multiple Inheritance"
   ]
  },
  {
   "cell_type": "code",
   "execution_count": 10,
   "metadata": {},
   "outputs": [
    {
     "name": "stdout",
     "output_type": "stream",
     "text": [
      "Tomato is ready to eat!\n",
      "Tomato (3.000 kg)\n"
     ]
    }
   ],
   "source": [
    "from enum import Enum\n",
    "\n",
    "class Cooked(Enum):\n",
    "    BOILED = 1\n",
    "    FRIED = 2\n",
    "    ROAST = 3\n",
    "\n",
    "class Vegetable():\n",
    "    def __init__(self, name):\n",
    "        super.__init__()\n",
    "        self.name = \"Vegetable\" +name\n",
    "        self.cooked = None\n",
    "        print(\"Vegies initialized\")\n",
    "        \n",
    "    def fry(self):\n",
    "        self.cooked = Cooked.FRIED\n",
    "\n",
    "class Tomato(Fruit, Vegetable):\n",
    "    def __init__(self, name ='Tomato', weight_kg = 3.0):\n",
    "        super().__init__(name=name, weight_kg=weight_kg)\n",
    "t = Tomato()\n",
    "t.ripen()\n",
    "print(t)"
   ]
  },
  {
   "cell_type": "markdown",
   "metadata": {},
   "source": [
    "### 1. Identity Access Management - IAM\n",
    "\n",
    "It is crucial to get the access control correctly implemented. As an example, consider logging onto ALF. In this case there are students and professors, each of whom is part of multiple courses. In each course one might have different roles - e.g. a professor might be a teacher in one class, while taking another class as a student. Professors are able to do more things on the platform than students, e.g. send the class to breakout. There might be other actions as well, for example some students might be privileged with the option of enabling or disabling student drawing on slides. When things break (as they sometimes do), then it will be really useful to have people with tech support privileges come into any class and perform any action.\n",
    "\n",
    "Design a system which represents all parts of the problem and can flexibly assign students and professors to new classes. The system must also be able to efficiently determine whether a person is able to perform a particular action, such as sending the class to breakout.\n",
    "\n",
    "(The model sketched out here is more flexible than the actual policy implemented in ALF. As an alternative exercise, try to design how IAM is handled in ALF.)"
   ]
  },
  {
   "cell_type": "code",
   "execution_count": 9,
   "metadata": {},
   "outputs": [
    {
     "data": {
      "text/plain": [
       "['Jackie', 'Khanh', 'Verina']"
      ]
     },
     "execution_count": 9,
     "metadata": {},
     "output_type": "execute_result"
    }
   ],
   "source": [
    "'''\n",
    "Student - part of multiple course\n",
    "Prof - pomc, more rights\n",
    "Tech support\n",
    "-> flex in assign students and professors in new classes\n",
    "-> whether a person can do a particular action\n",
    "'''\n",
    "\n",
    "\n",
    "class Student:\n",
    "    def __init__(self, stud_name, talking_time, content_draw):\n",
    "        self.stud_name = stud_name\n",
    "        self.is_present = True\n",
    "        \n",
    "        self.press_control = False\n",
    "        self.talking_time = talking_time\n",
    "        self.is_talking = False\n",
    "        \n",
    "        self.drawable = False\n",
    "        self.content_draw = content_draw\n",
    "    \n",
    "    def unmute(self):\n",
    "        if self.press_control:\n",
    "            while self.talking_time > 0:\n",
    "                self.is_talking = True\n",
    "                self.talking_time -= 1\n",
    "        self.is_talking = False\n",
    "        \n",
    "    def draw_on_slides(self):\n",
    "        if self.drawable:\n",
    "            return \"Student is drawing {}\".format(self.content_draw)\n",
    "            \n",
    "class Professor:\n",
    "    def __init__(self, prof_name, breakout_number):\n",
    "        self.prof_name = prof_name\n",
    "        self.is_student = False \n",
    "        self.is_talking = False # default professor is talking\n",
    "        self.students = [] #composition relationship\n",
    "        self.breakout_number = breakout_number\n",
    "    \n",
    "    def get_student_list(self):\n",
    "        return [s.stud_name for s in self.students if s.is_present == True]\n",
    "        \n",
    "    def send_to_break_out(self, number):\n",
    "        for s in self.students:\n",
    "            for i in range(number):\n",
    "                s.break_out = i\n",
    "                \n",
    "    def unmute(self):\n",
    "        for s in self.students:\n",
    "            if s.is_talking: # if there is a student who is speaking\n",
    "                self.is_talking = False # Prof will not talk\n",
    "        self.is_talking = True # otherwise, Prof talks\n",
    "        \n",
    "p = Professor(\"Stern\", 3)\n",
    "s1 = Student(\"Jackie\", 3, 'git commit')\n",
    "s2 = Student(\"Khanh\", 1, \"git checkout branch\")\n",
    "s3 = Student(\"Verina\", 2, \"git push\")\n",
    "p.students = [s1, s2, s3]\n",
    "p.get_student_list()  \n",
    "        \n",
    "\n",
    "    \n"
   ]
  },
  {
   "cell_type": "markdown",
   "metadata": {},
   "source": [
    "## 2. Bug or feature?\n",
    "Notice that a tomato can now also appear inside a fruit salad without any errors. Is this a bug or a feature? Make arguments for both sides.\n",
    "\n",
    "\n",
    "Feature:\n",
    "- If we merely determine that all fruits can be added to the fruit salad, this is a feature. The feature allows everything that is fruit to be represented.\n",
    "\n",
    "Bug:\n",
    "- If we only include exclusively fruits and not fruits & veggie type, this is a bug.\n"
   ]
  },
  {
   "cell_type": "markdown",
   "metadata": {},
   "source": [
    "## 3. Liskov Substitution principle\n",
    "\n",
    "At the REPL, typing type(x) will show what type of variable x is, while dir(x) will reveal all the methods that x has.\n",
    "\n",
    "Work through the simple types (e.g. list, int, float, string) and find out whether it is possible to call the following code with an instance of that type. Is it possible to find an instance that works, while another instance (of the same type) fails?\n",
    "\n",
    "Is this a violation of the Liskov substitution principle? Why or why not?\n",
    "\n"
   ]
  },
  {
   "cell_type": "code",
   "execution_count": 10,
   "metadata": {},
   "outputs": [],
   "source": [
    "'''\n",
    "The Liskov Substitution Principle states that any class that is the child of a parent class\n",
    "should be usable in place of its parent without any unexpected behaviour.\n",
    "\n",
    "'''\n",
    "def liskov_substitution_principle(x):\n",
    "    x = x % x\n",
    "    x = x * 2\n",
    "    print(x)\n"
   ]
  },
  {
   "cell_type": "code",
   "execution_count": 22,
   "metadata": {},
   "outputs": [
    {
     "name": "stdout",
     "output_type": "stream",
     "text": [
      "with integers 0 6\n",
      "with floats 0.0 2.6\n",
      "with list [0 0] [2 4]\n"
     ]
    }
   ],
   "source": [
    "import numpy as np\n",
    "class Multiply():\n",
    "    def calc(self, x): \n",
    "        return x % x \n",
    "\n",
    "class Division(Multiply):\n",
    "    def calc(self, x): \n",
    "        return x * 2      \n",
    "\n",
    "m1 = Multiply().calc(3)\n",
    "d1 = Division().calc(3)\n",
    "print('with integers', m1, d1)\n",
    "\n",
    "m2= Multiply().calc(1.3)\n",
    "d2 = Division().calc(1.3)\n",
    "print('with floats', m2, d2)\n",
    "\n",
    "m3 = Multiply().calc(np.array([1,2]))\n",
    "d3 = Division().calc(np.array([1,2]))\n",
    "print('with list', m3, d3)"
   ]
  },
  {
   "cell_type": "code",
   "execution_count": 18,
   "metadata": {},
   "outputs": [
    {
     "ename": "ZeroDivisionError",
     "evalue": "integer division or modulo by zero",
     "output_type": "error",
     "traceback": [
      "\u001b[1;31m---------------------------------------------------------------------------\u001b[0m",
      "\u001b[1;31mZeroDivisionError\u001b[0m                         Traceback (most recent call last)",
      "\u001b[1;32m<ipython-input-18-86c12378487c>\u001b[0m in \u001b[0;36m<module>\u001b[1;34m()\u001b[0m\n\u001b[1;32m----> 1\u001b[1;33m \u001b[0mm1\u001b[0m \u001b[1;33m=\u001b[0m \u001b[0mMultiply\u001b[0m\u001b[1;33m(\u001b[0m\u001b[1;33m)\u001b[0m\u001b[1;33m.\u001b[0m\u001b[0mcalc\u001b[0m\u001b[1;33m(\u001b[0m\u001b[1;36m0\u001b[0m\u001b[1;33m)\u001b[0m\u001b[1;33m\u001b[0m\u001b[0m\n\u001b[0m\u001b[0;32m      2\u001b[0m \u001b[0md1\u001b[0m \u001b[1;33m=\u001b[0m \u001b[0mDivision\u001b[0m\u001b[1;33m(\u001b[0m\u001b[1;33m)\u001b[0m\u001b[1;33m.\u001b[0m\u001b[0mcalc\u001b[0m\u001b[1;33m(\u001b[0m\u001b[1;36m0\u001b[0m\u001b[1;33m)\u001b[0m\u001b[1;33m\u001b[0m\u001b[0m\n",
      "\u001b[1;32m<ipython-input-17-e3c6b7dc883c>\u001b[0m in \u001b[0;36mcalc\u001b[1;34m(self, x)\u001b[0m\n\u001b[0;32m      1\u001b[0m \u001b[1;32mclass\u001b[0m \u001b[0mMultiply\u001b[0m\u001b[1;33m(\u001b[0m\u001b[1;33m)\u001b[0m\u001b[1;33m:\u001b[0m\u001b[1;33m\u001b[0m\u001b[0m\n\u001b[0;32m      2\u001b[0m     \u001b[1;32mdef\u001b[0m \u001b[0mcalc\u001b[0m\u001b[1;33m(\u001b[0m\u001b[0mself\u001b[0m\u001b[1;33m,\u001b[0m \u001b[0mx\u001b[0m\u001b[1;33m)\u001b[0m\u001b[1;33m:\u001b[0m\u001b[1;33m\u001b[0m\u001b[0m\n\u001b[1;32m----> 3\u001b[1;33m         \u001b[1;32mreturn\u001b[0m \u001b[0mx\u001b[0m \u001b[1;33m%\u001b[0m \u001b[0mx\u001b[0m\u001b[1;33m\u001b[0m\u001b[0m\n\u001b[0m\u001b[0;32m      4\u001b[0m \u001b[1;33m\u001b[0m\u001b[0m\n\u001b[0;32m      5\u001b[0m \u001b[1;32mclass\u001b[0m \u001b[0mDivision\u001b[0m\u001b[1;33m(\u001b[0m\u001b[0mMultiply\u001b[0m\u001b[1;33m)\u001b[0m\u001b[1;33m:\u001b[0m\u001b[1;33m\u001b[0m\u001b[0m\n",
      "\u001b[1;31mZeroDivisionError\u001b[0m: integer division or modulo by zero"
     ]
    }
   ],
   "source": [
    "# error with 0 because of 0 division\n",
    "m1 = Multiply().calc(0)\n",
    "d1 = Division().calc(0)\n"
   ]
  }
 ],
 "metadata": {
  "kernelspec": {
   "display_name": "Python 3",
   "language": "python",
   "name": "python3"
  },
  "language_info": {
   "codemirror_mode": {
    "name": "ipython",
    "version": 3
   },
   "file_extension": ".py",
   "mimetype": "text/x-python",
   "name": "python",
   "nbconvert_exporter": "python",
   "pygments_lexer": "ipython3",
   "version": "3.6.5"
  }
 },
 "nbformat": 4,
 "nbformat_minor": 2
}
