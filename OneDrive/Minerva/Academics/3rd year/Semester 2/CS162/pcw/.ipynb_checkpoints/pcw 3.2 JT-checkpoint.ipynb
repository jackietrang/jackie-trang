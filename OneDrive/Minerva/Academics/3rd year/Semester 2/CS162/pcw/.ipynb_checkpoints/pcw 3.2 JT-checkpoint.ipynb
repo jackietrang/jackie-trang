{
 "cells": [
  {
   "cell_type": "markdown",
   "metadata": {},
   "source": [
    "## Exercise 1:\n",
    "\n",
    "- help(t): used to display the documentation of modules, functions, classes, keywords\n",
    "- type(t): display the type of modules\n",
    "- dir(t): attempts to return all attributes of this object\n",
    "- hash(t): returns the hash value of an object if it has one\n",
    "- id(t): function returns the identity of the object. This is an integer that is unique for the given object and remains constant during its lifetime.\n",
    "- hasattr(my_attr,'x3'): whether the object has that attribute\n",
    "- getattr(my_attr,'x3'): value of the named attribute of the given object\n",
    "- delattr(my_attr,'x3'): doesn't return any value (returns None). It only removes an attribute (if the object allows it).\n",
    "- vars(my_attr): returns the __dict__ attribute of the given object. __dict__ is a dictionary or a mapping object. It stores object's (writable) attributes.\n",
    "- bool(t): False if the value is omitted or false, True if the value is true"
   ]
  },
  {
   "cell_type": "code",
   "execution_count": 1,
   "metadata": {},
   "outputs": [],
   "source": [
    "print(id(1))\n",
    "print(bool(1))\n",
    "\n",
    "class Person:\n",
    "    age = 23\n",
    "    name = 'Adam'\n",
    "\n",
    "person = Person()\n",
    "\n",
    "print('Person has age?:', hasattr(person, 'age'))\n",
    "print('Person has age?:', getattr(person, 'age'))\n"
   ]
  },
  {
   "cell_type": "markdown",
   "metadata": {},
   "source": [
    "## Exercise 2:"
   ]
  },
  {
   "cell_type": "code",
   "execution_count": 2,
   "metadata": {},
   "outputs": [],
   "source": [
    "import logging, socket, os, pickle, struct, time, re\n",
    "from stat import ST_DEV, ST_INO, ST_MTIME\n",
    "import queue\n",
    "try:\n",
    "    import threading\n",
    "except ImportError: #pragma: no cover\n",
    "    threading = None\n",
    "\n",
    "#\n",
    "# Some constants...\n",
    "#\n",
    "\n",
    "DEFAULT_TCP_LOGGING_PORT    = 9020\n",
    "DEFAULT_UDP_LOGGING_PORT    = 9021\n",
    "DEFAULT_HTTP_LOGGING_PORT   = 9022\n",
    "DEFAULT_SOAP_LOGGING_PORT   = 9023\n",
    "SYSLOG_UDP_PORT             = 514\n",
    "SYSLOG_TCP_PORT             = 514\n",
    "\n",
    "_MIDNIGHT = 24 * 60 * 60  # number of seconds in a day"
   ]
  },
  {
   "cell_type": "markdown",
   "metadata": {},
   "source": [
    "### 1. Build up a list of all the classes defined in the logging library, and all the parent classes that it inherits from.\n"
   ]
  },
  {
   "cell_type": "markdown",
   "metadata": {},
   "source": [
    "class BaseRotatingHandler(logging.FileHandler):\n",
    "    - class RotatingFileHandler(BaseRotatingHandler):\n",
    "    - class TimedRotatingFileHandler(BaseRotatingHandler):\n",
    "\n",
    "class WatchedFileHandler(logging.FileHandler):\n",
    "\n",
    "class SocketHandler(logging.Handler):\n",
    "    - class DatagramHandler(SocketHandler):\n",
    "    \n",
    "class SysLogHandler(logging.Handler):\n",
    "\n",
    "class SMTPHandler(logging.Handler):\n",
    "\n",
    "class NTEventLogHandler(logging.Handler):\n",
    "\n",
    "class HTTPHandler(logging.Handler):\n",
    "\n",
    "class BufferingHandler(logging.Handler):\n",
    "    - class MemoryHandler(BufferingHandler):\n",
    "\n",
    "class QueueHandler(logging.Handler):\n",
    "\n",
    "\n",
    "\n"
   ]
  },
  {
   "cell_type": "markdown",
   "metadata": {},
   "source": [
    "### 2. Now choose a class that inherits from logging.Handler and list all the methods that one can call on that handler.\n"
   ]
  },
  {
   "cell_type": "code",
   "execution_count": 3,
   "metadata": {},
   "outputs": [],
   "source": [
    "'''\n",
    "SocketHandler methods:\n",
    "- makeSocket\n",
    "- createSocket\n",
    "- send\n",
    "- makePickle\n",
    "- handleError\n",
    "- emit\n",
    "- close\n",
    "\n",
    "'''\n",
    "\n",
    "class SocketHandler(logging.Handler):\n",
    "    \"\"\"\n",
    "    A handler class which writes logging records, in pickle format, to\n",
    "    a streaming socket. The socket is kept open across logging calls.\n",
    "    If the peer resets it, an attempt is made to reconnect on the next call.\n",
    "    The pickle which is sent is that of the LogRecord's attribute dictionary\n",
    "    (__dict__), so that the receiver does not need to have the logging module\n",
    "    installed in order to process the logging event.\n",
    "    To unpickle the record at the receiving end into a LogRecord, use the\n",
    "    makeLogRecord function.\n",
    "    \"\"\"\n",
    "\n",
    "    def __init__(self, host, port):\n",
    "        \"\"\"\n",
    "        Initializes the handler with a specific host address and port.\n",
    "        When the attribute *closeOnError* is set to True - if a socket error\n",
    "        occurs, the socket is silently closed and then reopened on the next\n",
    "        logging call.\n",
    "        \"\"\"\n",
    "        logging.Handler.__init__(self)\n",
    "        self.host = host\n",
    "        self.port = port\n",
    "        if port is None:\n",
    "            self.address = host\n",
    "        else:\n",
    "            self.address = (host, port)\n",
    "        self.sock = None\n",
    "        self.closeOnError = False\n",
    "        self.retryTime = None\n",
    "        #\n",
    "        # Exponential backoff parameters.\n",
    "        #\n",
    "        self.retryStart = 1.0\n",
    "        self.retryMax = 30.0\n",
    "        self.retryFactor = 2.0\n",
    "\n",
    "    def makeSocket(self, timeout=1):\n",
    "        \"\"\"\n",
    "        A factory method which allows subclasses to define the precise\n",
    "        type of socket they want.\n",
    "        \"\"\"\n",
    "        if self.port is not None:\n",
    "            result = socket.create_connection(self.address, timeout=timeout)\n",
    "        else:\n",
    "            result = socket.socket(socket.AF_UNIX, socket.SOCK_STREAM)\n",
    "            result.settimeout(timeout)\n",
    "            try:\n",
    "                result.connect(self.address)\n",
    "            except OSError:\n",
    "                result.close()  # Issue 19182\n",
    "                raise\n",
    "        return result\n",
    "\n",
    "    def createSocket(self):\n",
    "        \"\"\"\n",
    "        Try to create a socket, using an exponential backoff with\n",
    "        a max retry time. Thanks to Robert Olson for the original patch\n",
    "        (SF #815911) which has been slightly refactored.\n",
    "        \"\"\"\n",
    "        now = time.time()\n",
    "        # Either retryTime is None, in which case this\n",
    "        # is the first time back after a disconnect, or\n",
    "        # we've waited long enough.\n",
    "        if self.retryTime is None:\n",
    "            attempt = True\n",
    "        else:\n",
    "            attempt = (now >= self.retryTime)\n",
    "        if attempt:\n",
    "            try:\n",
    "                self.sock = self.makeSocket()\n",
    "                self.retryTime = None # next time, no delay before trying\n",
    "            except OSError:\n",
    "                #Creation failed, so set the retry time and return.\n",
    "                if self.retryTime is None:\n",
    "                    self.retryPeriod = self.retryStart\n",
    "                else:\n",
    "                    self.retryPeriod = self.retryPeriod * self.retryFactor\n",
    "                    if self.retryPeriod > self.retryMax:\n",
    "                        self.retryPeriod = self.retryMax\n",
    "                self.retryTime = now + self.retryPeriod\n",
    "\n",
    "    def send(self, s):\n",
    "        \"\"\"\n",
    "        Send a pickled string to the socket.\n",
    "        This function allows for partial sends which can happen when the\n",
    "        network is busy.\n",
    "        \"\"\"\n",
    "        if self.sock is None:\n",
    "            self.createSocket()\n",
    "        #self.sock can be None either because we haven't reached the retry\n",
    "        #time yet, or because we have reached the retry time and retried,\n",
    "        #but are still unable to connect.\n",
    "        if self.sock:\n",
    "            try:\n",
    "                self.sock.sendall(s)\n",
    "            except OSError: #pragma: no cover\n",
    "                self.sock.close()\n",
    "                self.sock = None  # so we can call createSocket next time\n",
    "\n",
    "    def makePickle(self, record):\n",
    "        \"\"\"\n",
    "        Pickles the record in binary format with a length prefix, and\n",
    "        returns it ready for transmission across the socket.\n",
    "        \"\"\"\n",
    "        ei = record.exc_info\n",
    "        if ei:\n",
    "            # just to get traceback text into record.exc_text ...\n",
    "            dummy = self.format(record)\n",
    "        # See issue #14436: If msg or args are objects, they may not be\n",
    "        # available on the receiving end. So we convert the msg % args\n",
    "        # to a string, save it as msg and zap the args.\n",
    "        d = dict(record.__dict__)\n",
    "        d['msg'] = record.getMessage()\n",
    "        d['args'] = None\n",
    "        d['exc_info'] = None\n",
    "        # Issue #25685: delete 'message' if present: redundant with 'msg'\n",
    "        d.pop('message', None)\n",
    "        s = pickle.dumps(d, 1)\n",
    "        slen = struct.pack(\">L\", len(s))\n",
    "        return slen + s\n",
    "\n",
    "    def handleError(self, record):\n",
    "        \"\"\"\n",
    "        Handle an error during logging.\n",
    "        An error has occurred during logging. Most likely cause -\n",
    "        connection lost. Close the socket so that we can retry on the\n",
    "        next event.\n",
    "        \"\"\"\n",
    "        if self.closeOnError and self.sock:\n",
    "            self.sock.close()\n",
    "            self.sock = None        #try to reconnect next time\n",
    "        else:\n",
    "            logging.Handler.handleError(self, record)\n",
    "\n",
    "    def emit(self, record):\n",
    "        \"\"\"\n",
    "        Emit a record.\n",
    "        Pickles the record and writes it to the socket in binary format.\n",
    "        If there is an error with the socket, silently drop the packet.\n",
    "        If there was a problem with the socket, re-establishes the\n",
    "        socket.\n",
    "        \"\"\"\n",
    "        try:\n",
    "            s = self.makePickle(record)\n",
    "            self.send(s)\n",
    "        except Exception:\n",
    "            self.handleError(record)\n",
    "\n",
    "    def close(self):\n",
    "        \"\"\"\n",
    "        Closes the socket.\n",
    "        \"\"\"\n",
    "        self.acquire()\n",
    "        try:\n",
    "            sock = self.sock\n",
    "            if sock:\n",
    "                self.sock = None\n",
    "                sock.close()\n",
    "            logging.Handler.close(self)\n",
    "        finally:\n",
    "            self.release()"
   ]
  },
  {
   "cell_type": "markdown",
   "metadata": {},
   "source": [
    "### Exercise 3. Find a simple online tutorial on logging in Python and work your way through it.\n",
    "\n",
    "https://www.youtube.com/watch?v=Zvd2NuwKtS8&ab_channel=PyMoondra\n",
    "\n",
    "Benefits of logging:\n",
    "- document flow of program\n",
    "- debugging that is not detected by compiler or run time\n",
    "- keep records of event\n",
    "\n"
   ]
  },
  {
   "cell_type": "code",
   "execution_count": 4,
   "metadata": {},
   "outputs": [
    {
     "name": "stderr",
     "output_type": "stream",
     "text": [
      "DEBUG:root:This is a debug message\n",
      "INFO:root:This is an info\n",
      "WARNING:root:This is warning\n",
      "ERROR:root:This is error\n",
      "CRITICAL:root:This is critical message\n"
     ]
    }
   ],
   "source": [
    "import logging\n",
    "\n",
    "# can see all 5 levels\n",
    "logging.basicConfig(level=logging.DEBUG) # can only be configured once\n",
    "\n",
    "# if not set logging level, level is default warning\n",
    "logging.debug('This is a debug message')\n",
    "logging.info('This is an info')\n",
    "logging.warning('This is warning')\n",
    "logging.error('This is error')\n",
    "logging.critical('This is critical message')\n",
    "\n",
    "# level: warning < error < critical"
   ]
  },
  {
   "cell_type": "code",
   "execution_count": 5,
   "metadata": {},
   "outputs": [],
   "source": [
    "# change root level\n",
    "logging.root.setLevel(logging.CRITICAL)"
   ]
  },
  {
   "cell_type": "code",
   "execution_count": 7,
   "metadata": {},
   "outputs": [
    {
     "name": "stderr",
     "output_type": "stream",
     "text": [
      "CRITICAL:root:This is critical message\n"
     ]
    }
   ],
   "source": [
    "\n",
    "# if not set logging level, level is default warning\n",
    "logging.debug('This is a debug message')\n",
    "logging.info('This is an info')\n",
    "logging.warning('This is warning')\n",
    "logging.error('This is error')\n",
    "logging.critical('This is critical message')"
   ]
  },
  {
   "cell_type": "code",
   "execution_count": 8,
   "metadata": {},
   "outputs": [],
   "source": [
    "logging.root.setLevel(60) # set high so nothing print\n",
    "logging.debug('This is a debug message')\n",
    "logging.info('This is an info')\n",
    "logging.warning('This is warning')\n",
    "logging.error('This is error')\n",
    "logging.critical('This is critical message')"
   ]
  },
  {
   "cell_type": "code",
   "execution_count": 9,
   "metadata": {},
   "outputs": [
    {
     "data": {
      "text/plain": [
       "60"
      ]
     },
     "execution_count": 9,
     "metadata": {},
     "output_type": "execute_result"
    }
   ],
   "source": [
    "# check level\n",
    "logging.root.getEffectiveLevel()"
   ]
  },
  {
   "cell_type": "markdown",
   "metadata": {},
   "source": [
    "#### Write to log file\n",
    "\n",
    "\n"
   ]
  },
  {
   "cell_type": "code",
   "execution_count": 2,
   "metadata": {},
   "outputs": [],
   "source": [
    "import logging\n",
    "logging.basicConfig(filename='example.log', level=logging.DEBUG)\n",
    "logging.debug('This message goes to the log file')\n",
    "logging.info('So should this')\n",
    "logging.warning('And this, too')"
   ]
  },
  {
   "cell_type": "code",
   "execution_count": 2,
   "metadata": {},
   "outputs": [],
   "source": [
    "## add more configs\n",
    "\n",
    "import logging\n",
    "logging.basicConfig(filename='example2.log', filemode='a', format='%(name)s%(pathname)s')\n",
    "logging.warning('And this, too')"
   ]
  },
  {
   "cell_type": "code",
   "execution_count": 3,
   "metadata": {},
   "outputs": [],
   "source": [
    "## add more configs\n",
    "\n",
    "import logging\n",
    "logging.basicConfig(filename='example3.log', filemode='a', format='%(name)s%(message)s',\n",
    "                   datefmt='%m/%d/%Y %I:%M:%S %p')\n",
    "logging.info('So should this')\n",
    "logging.warning('And this, too')"
   ]
  },
  {
   "cell_type": "markdown",
   "metadata": {},
   "source": [
    "#### Logging exeptions\n"
   ]
  },
  {
   "cell_type": "code",
   "execution_count": 1,
   "metadata": {},
   "outputs": [
    {
     "name": "stderr",
     "output_type": "stream",
     "text": [
      "ERROR:root:log exception\n",
      "Traceback (most recent call last):\n",
      "  File \"<ipython-input-1-438d69e46507>\", line 5, in <module>\n",
      "    assert a == b\n",
      "AssertionError\n"
     ]
    }
   ],
   "source": [
    "import logging\n",
    "a=99\n",
    "b=199\n",
    "try:\n",
    "    assert a == b\n",
    "except Exception as e:\n",
    "    logging.error(\"log exception\", exc_info=True)"
   ]
  },
  {
   "cell_type": "markdown",
   "metadata": {},
   "source": [
    "## Advanced"
   ]
  },
  {
   "cell_type": "markdown",
   "metadata": {},
   "source": [
    "#### Create multiple loggers"
   ]
  },
  {
   "cell_type": "code",
   "execution_count": 2,
   "metadata": {},
   "outputs": [],
   "source": [
    "logger = logging.getLogger('logger1')\n",
    "logger2 = logging.getLogger('logger2')\n",
    "\n",
    "# with each logger you need to ALWAYS create handlers\n",
    "# and set logger alert level to the lowest"
   ]
  },
  {
   "cell_type": "markdown",
   "metadata": {},
   "source": [
    "#### Create handlers for loggers\n",
    "\n",
    "- Handlers: forward events from Loggers to outputs such as a console, file, or syslog server. Loggers can have multiple handlers assigned to them, leeting you log events to multiple destination simultaneously.\n",
    "\n",
    "#### Different types of Handlers:\n",
    "- FileHandler log to files\n",
    "\n",
    "- StreamHandler(sys.stdout, sys.stderr (default))"
   ]
  },
  {
   "cell_type": "code",
   "execution_count": 3,
   "metadata": {},
   "outputs": [],
   "source": [
    "# set logger levels (ways lowest level or else run into weird bug)\n",
    "\n",
    "logger.setLevel(logging.DEBUG)"
   ]
  },
  {
   "cell_type": "code",
   "execution_count": 4,
   "metadata": {},
   "outputs": [],
   "source": [
    "# FILE HANDLERS"
   ]
  },
  {
   "cell_type": "code",
   "execution_count": 5,
   "metadata": {},
   "outputs": [],
   "source": [
    "handler1 = logging.FileHandler('info.log', mode='a') # default mode \n",
    "handler1.setLevel(logging.INFO)"
   ]
  },
  {
   "cell_type": "code",
   "execution_count": 6,
   "metadata": {},
   "outputs": [],
   "source": [
    "handler2 = logging.FileHandler('info2.log', mode = 'a')\n",
    "handler2.setLevel(logging.ERROR)"
   ]
  },
  {
   "cell_type": "code",
   "execution_count": 7,
   "metadata": {},
   "outputs": [],
   "source": [
    "# attach handlers to our loggers\n",
    "logger.addHandler(handler1)\n",
    "logger.addHandler(handler2)"
   ]
  },
  {
   "cell_type": "code",
   "execution_count": 8,
   "metadata": {},
   "outputs": [
    {
     "name": "stderr",
     "output_type": "stream",
     "text": [
      "INFO:logger1:An info message\n"
     ]
    }
   ],
   "source": [
    "logger.info('An info message')\n",
    "# handler will output to specified file"
   ]
  },
  {
   "cell_type": "code",
   "execution_count": 9,
   "metadata": {},
   "outputs": [],
   "source": [
    "# STREAM HANDLERS"
   ]
  },
  {
   "cell_type": "code",
   "execution_count": 11,
   "metadata": {},
   "outputs": [
    {
     "name": "stdout",
     "output_type": "stream",
     "text": [
      "An info message\n"
     ]
    },
    {
     "name": "stderr",
     "output_type": "stream",
     "text": [
      "INFO:logger1:An info message\n"
     ]
    },
    {
     "name": "stdout",
     "output_type": "stream",
     "text": [
      "A critical message\n"
     ]
    },
    {
     "name": "stderr",
     "output_type": "stream",
     "text": [
      "CRITICAL:logger1:A critical message\n"
     ]
    }
   ],
   "source": [
    "import sys\n",
    "handler3 = logging.StreamHandler(sys.stdout)\n",
    "handler3.setLevel(logging.INFO)\n",
    "logger.addHandler(handler3)\n",
    "\n",
    "# logger.setLevel(logging.INFO)\n",
    "logger.info('An info message')\n",
    "logger.critical('A critical message')"
   ]
  },
  {
   "cell_type": "code",
   "execution_count": null,
   "metadata": {},
   "outputs": [],
   "source": [
    "# FORMATTING"
   ]
  },
  {
   "cell_type": "code",
   "execution_count": 12,
   "metadata": {},
   "outputs": [],
   "source": [
    "formatter = logging.Formatter(\"%(asctime)s %(message)s\",\n",
    "                             \"%Y-%m-%d %H:%M:%S\")\n",
    "formatter2 = logging.Formatter(\"%(levelname)s %(message)s\")"
   ]
  },
  {
   "cell_type": "code",
   "execution_count": 14,
   "metadata": {},
   "outputs": [],
   "source": [
    "handler3.setFormatter(formatter)"
   ]
  },
  {
   "cell_type": "code",
   "execution_count": 15,
   "metadata": {},
   "outputs": [
    {
     "name": "stdout",
     "output_type": "stream",
     "text": [
      "2021-01-27 10:44:34 an info mess\n"
     ]
    },
    {
     "name": "stderr",
     "output_type": "stream",
     "text": [
      "INFO:logger1:an info mess\n"
     ]
    }
   ],
   "source": [
    "logger.info('an info mess')"
   ]
  }
 ],
 "metadata": {
  "kernelspec": {
   "display_name": "Python 3",
   "language": "python",
   "name": "python3"
  },
  "language_info": {
   "codemirror_mode": {
    "name": "ipython",
    "version": 3
   },
   "file_extension": ".py",
   "mimetype": "text/x-python",
   "name": "python",
   "nbconvert_exporter": "python",
   "pygments_lexer": "ipython3",
   "version": "3.6.5"
  }
 },
 "nbformat": 4,
 "nbformat_minor": 2
}
